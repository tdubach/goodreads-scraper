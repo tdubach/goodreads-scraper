{
 "cells": [
  {
   "cell_type": "code",
   "execution_count": 1,
   "metadata": {},
   "outputs": [],
   "source": [
    "%load_ext autoreload\n",
    "%autoreload 2"
   ]
  },
  {
   "cell_type": "code",
   "execution_count": 2,
   "metadata": {},
   "outputs": [],
   "source": [
    "from get_users import scrape_books_from_user, main, scrape_users_from_book\n",
    "from goodreads_scraper.get_books import scrape_book, get_all_editions\n",
    "from selenium import webdriver\n",
    "import json\n",
    "import csv\n",
    "import os\n",
    "import glob"
   ]
  },
  {
   "cell_type": "code",
   "execution_count": 17,
   "metadata": {},
   "outputs": [],
   "source": [
    "user_ids = set()\n",
    "files = glob.glob('data/book_read_by_users_lists/*.json')\n",
    "for file in files:\n",
    "    with open(file, 'r') as f:\n",
    "        users = json.load(f)\n",
    "        user_ids.update(users.keys())\n",
    "with open('./user_ids_to_scrape.txt', 'w') as f:\n",
    "    for user_id in user_ids:\n",
    "        f.write(user_id + '\\n')"
   ]
  },
  {
   "cell_type": "code",
   "execution_count": 12,
   "metadata": {},
   "outputs": [
    {
     "name": "stdout",
     "output_type": "stream",
     "text": [
      "2023-01-08 19:05:19.601555 get_users.py: Scraping 3018343...\n",
      "2023-01-08 19:05:19.601555 get_users.py: #710 out of 505696 users\n"
     ]
    }
   ],
   "source": [
    "main(['--output_directory_path', 'data/user-read_lists', '--user_ids_path', './user_ids_to_scrape.txt'])"
   ]
  },
  {
   "cell_type": "code",
   "execution_count": 3,
   "metadata": {},
   "outputs": [],
   "source": [
    "from urllib.request import urlopen\n",
    "from urllib.error import HTTPError\n",
    "import bs4"
   ]
  },
  {
   "cell_type": "code",
   "execution_count": 3,
   "metadata": {},
   "outputs": [],
   "source": [
    "user = json.load(open('data/user-read_lists/63409191_user-read_list.json'))"
   ]
  },
  {
   "cell_type": "code",
   "execution_count": 4,
   "metadata": {},
   "outputs": [],
   "source": [
    "book_ids = [books['book_id'] for books in user]"
   ]
  },
  {
   "cell_type": "code",
   "execution_count": 18,
   "metadata": {},
   "outputs": [],
   "source": [
    "book_ids = ['3300225', '333544']"
   ]
  },
  {
   "cell_type": "code",
   "execution_count": 3,
   "metadata": {},
   "outputs": [],
   "source": [
    "# Read the cookies from the file\n",
    "with open(\"goodreads_cookies.csv\", \"r\") as f:\n",
    "    cookies_string = f.read()\n",
    "\n",
    "# Split the cookies string into a list of individual cookies\n",
    "cookies = cookies_string.split(\"\\n\")\n",
    "\n",
    "# Create a list to hold the selenium Cookies\n",
    "selenium_cookies = []\n",
    "\n",
    "# Iterate over the cookies, creating a selenium Cookie object for each one\n",
    "for cookie in cookies[1:]: \n",
    "    name, value, domain, path = cookie.split(',')\n",
    "    selenium_cookies.append({'name': name, 'value': value, 'domain': domain, 'path': path})"
   ]
  },
  {
   "cell_type": "code",
   "execution_count": 4,
   "metadata": {},
   "outputs": [],
   "source": [
    "options = webdriver.FirefoxOptions()\n",
    "options.add_argument('--headless')\n",
    "driver = webdriver.Firefox()\n",
    "driver.install_addon('C:\\\\Users\\\\thdub\\\\AppData\\\\Roaming\\\\Mozilla\\\\Firefox\\\\Profiles\\\\7r2u1d87.default-release\\\\extensions\\\\uBlock0@raymondhill.net.xpi')\n",
    "driver.get(\"https://www.goodreads.com\")\n",
    "for cookie in selenium_cookies:\n",
    "    driver.add_cookie(cookie)"
   ]
  },
  {
   "cell_type": "code",
   "execution_count": 7,
   "metadata": {},
   "outputs": [],
   "source": [
    "# Add the cookies to the selenium driver\n",
    "options = webdriver.ChromeOptions()\n",
    "#options.add_argument('--headless')\n",
    "options.add_argument('load-extension=C:\\\\Users\\\\thdub\\\\AppData\\\\Local\\\\Google\\\\Chrome\\\\User Data\\\\Default\\\\Extensions\\\\cjpalhdlnbpafiamejdnhcphjbkeiagm\\\\1.45.2_0')\n",
    "driver = webdriver.Chrome(options=options)\n",
    "driver.get(\"https://www.goodreads.com\")\n",
    "for cookie in selenium_cookies:\n",
    "    driver.add_cookie(cookie)"
   ]
  },
  {
   "cell_type": "code",
   "execution_count": 5,
   "metadata": {},
   "outputs": [
    {
     "name": "stdout",
     "output_type": "stream",
     "text": [
      "already scraped 185 out of 195 books\n",
      "scraped 186 out of 195 books\n",
      "scraped 187 out of 195 books\n",
      "scraped 188 out of 195 books\n",
      "scraped 189 out of 195 books\n",
      "exception Message: Unable to locate element: .Overlay__window\n",
      "Stacktrace:\n",
      "RemoteError@chrome://remote/content/shared/RemoteError.sys.mjs:8:8\n",
      "WebDriverError@chrome://remote/content/shared/webdriver/Errors.sys.mjs:182:5\n",
      "NoSuchElementError@chrome://remote/content/shared/webdriver/Errors.sys.mjs:394:5\n",
      "element.find/</<@chrome://remote/content/marionette/element.sys.mjs:275:16\n",
      "\n",
      "book 32075671 failed\n",
      "exception Message: \n",
      "Stacktrace:\n",
      "RemoteError@chrome://remote/content/shared/RemoteError.sys.mjs:8:8\n",
      "WebDriverError@chrome://remote/content/shared/webdriver/Errors.sys.mjs:182:5\n",
      "NoSuchElementError@chrome://remote/content/shared/webdriver/Errors.sys.mjs:394:5\n",
      "element.find/</<@chrome://remote/content/marionette/element.sys.mjs:275:16\n",
      "\n",
      "book 15839976 failed\n",
      "exception Message: Unable to locate element: .Overlay__window\n",
      "Stacktrace:\n",
      "RemoteError@chrome://remote/content/shared/RemoteError.sys.mjs:8:8\n",
      "WebDriverError@chrome://remote/content/shared/webdriver/Errors.sys.mjs:182:5\n",
      "NoSuchElementError@chrome://remote/content/shared/webdriver/Errors.sys.mjs:394:5\n",
      "element.find/</<@chrome://remote/content/marionette/element.sys.mjs:275:16\n",
      "\n",
      "book 2919938 failed\n",
      "exception Message: \n",
      "Stacktrace:\n",
      "RemoteError@chrome://remote/content/shared/RemoteError.sys.mjs:8:8\n",
      "WebDriverError@chrome://remote/content/shared/webdriver/Errors.sys.mjs:182:5\n",
      "NoSuchElementError@chrome://remote/content/shared/webdriver/Errors.sys.mjs:394:5\n",
      "element.find/</<@chrome://remote/content/marionette/element.sys.mjs:275:16\n",
      "\n",
      "book 16065004 failed\n",
      "exception Message: \n",
      "Stacktrace:\n",
      "RemoteError@chrome://remote/content/shared/RemoteError.sys.mjs:8:8\n",
      "WebDriverError@chrome://remote/content/shared/webdriver/Errors.sys.mjs:182:5\n",
      "NoSuchElementError@chrome://remote/content/shared/webdriver/Errors.sys.mjs:394:5\n",
      "element.find/</<@chrome://remote/content/marionette/element.sys.mjs:275:16\n",
      "\n",
      "book 25667918 failed\n"
     ]
    },
    {
     "ename": "KeyboardInterrupt",
     "evalue": "",
     "output_type": "error",
     "traceback": [
      "\u001b[1;31m---------------------------------------------------------------------------\u001b[0m",
      "\u001b[1;31mKeyboardInterrupt\u001b[0m                         Traceback (most recent call last)",
      "Cell \u001b[1;32mIn[5], line 20\u001b[0m\n\u001b[0;32m     18\u001b[0m \u001b[39mfor\u001b[39;00m book_id \u001b[39min\u001b[39;00m books_to_scrape:\n\u001b[0;32m     19\u001b[0m     \u001b[39mtry\u001b[39;00m:\n\u001b[1;32m---> 20\u001b[0m         user_ids \u001b[39m=\u001b[39m scrape_users_from_book(book_id, driver)\n\u001b[0;32m     21\u001b[0m         \u001b[39mif\u001b[39;00m user_ids:\n\u001b[0;32m     22\u001b[0m             \u001b[39mwith\u001b[39;00m \u001b[39mopen\u001b[39m(os\u001b[39m.\u001b[39mpath\u001b[39m.\u001b[39mjoin(output_directory_path, \u001b[39m'\u001b[39m\u001b[39m{}\u001b[39;00m\u001b[39m_book_read_by_users_list.json\u001b[39m\u001b[39m'\u001b[39m\u001b[39m.\u001b[39mformat(book_id)), \u001b[39m'\u001b[39m\u001b[39mw\u001b[39m\u001b[39m'\u001b[39m) \u001b[39mas\u001b[39;00m f:\n",
      "File \u001b[1;32mc:\\Users\\thdub\\Documents\\git\\goodreads\\get_users.py:143\u001b[0m, in \u001b[0;36mscrape_users_from_book\u001b[1;34m(id, driver)\u001b[0m\n\u001b[0;32m    140\u001b[0m \u001b[39melse\u001b[39;00m: counter \u001b[39m+\u001b[39m\u001b[39m=\u001b[39m \u001b[39m1\u001b[39m\n\u001b[0;32m    142\u001b[0m \u001b[39mtry\u001b[39;00m:\n\u001b[1;32m--> 143\u001b[0m     WebDriverWait(driver, \u001b[39m2\u001b[39;49m)\u001b[39m.\u001b[39;49muntil(EC\u001b[39m.\u001b[39;49minvisibility_of_element(more_button))\n\u001b[0;32m    144\u001b[0m     \u001b[39mbreak\u001b[39;00m\n\u001b[0;32m    145\u001b[0m \u001b[39mexcept\u001b[39;00m TimeoutException:\n",
      "File \u001b[1;32mc:\\ProgramData\\Anaconda3\\envs\\goodreads\\lib\\site-packages\\selenium\\webdriver\\support\\wait.py:86\u001b[0m, in \u001b[0;36mWebDriverWait.until\u001b[1;34m(self, method, message)\u001b[0m\n\u001b[0;32m     84\u001b[0m \u001b[39mwhile\u001b[39;00m \u001b[39mTrue\u001b[39;00m:\n\u001b[0;32m     85\u001b[0m     \u001b[39mtry\u001b[39;00m:\n\u001b[1;32m---> 86\u001b[0m         value \u001b[39m=\u001b[39m method(\u001b[39mself\u001b[39;49m\u001b[39m.\u001b[39;49m_driver)\n\u001b[0;32m     87\u001b[0m         \u001b[39mif\u001b[39;00m value:\n\u001b[0;32m     88\u001b[0m             \u001b[39mreturn\u001b[39;00m value\n",
      "File \u001b[1;32mc:\\ProgramData\\Anaconda3\\envs\\goodreads\\lib\\site-packages\\selenium\\webdriver\\support\\expected_conditions.py:278\u001b[0m, in \u001b[0;36minvisibility_of_element_located.<locals>._predicate\u001b[1;34m(driver)\u001b[0m\n\u001b[0;32m    276\u001b[0m     \u001b[39mif\u001b[39;00m \u001b[39mnot\u001b[39;00m \u001b[39misinstance\u001b[39m(target, WebElement):\n\u001b[0;32m    277\u001b[0m         target \u001b[39m=\u001b[39m driver\u001b[39m.\u001b[39mfind_element(\u001b[39m*\u001b[39mtarget)\n\u001b[1;32m--> 278\u001b[0m     \u001b[39mreturn\u001b[39;00m _element_if_visible(target, \u001b[39mFalse\u001b[39;49;00m)\n\u001b[0;32m    279\u001b[0m \u001b[39mexcept\u001b[39;00m (NoSuchElementException, StaleElementReferenceException):\n\u001b[0;32m    280\u001b[0m     \u001b[39m# In the case of NoSuchElement, returns true because the element is\u001b[39;00m\n\u001b[0;32m    281\u001b[0m     \u001b[39m# not present in DOM. The try block checks if the element is present\u001b[39;00m\n\u001b[0;32m    282\u001b[0m     \u001b[39m# but is invisible.\u001b[39;00m\n\u001b[0;32m    283\u001b[0m     \u001b[39m# In the case of StaleElementReference, returns true because stale\u001b[39;00m\n\u001b[0;32m    284\u001b[0m     \u001b[39m# element reference implies that element is no longer visible.\u001b[39;00m\n\u001b[0;32m    285\u001b[0m     \u001b[39mreturn\u001b[39;00m \u001b[39mTrue\u001b[39;00m\n",
      "File \u001b[1;32mc:\\ProgramData\\Anaconda3\\envs\\goodreads\\lib\\site-packages\\selenium\\webdriver\\support\\expected_conditions.py:147\u001b[0m, in \u001b[0;36m_element_if_visible\u001b[1;34m(element, visibility)\u001b[0m\n\u001b[0;32m    146\u001b[0m \u001b[39mdef\u001b[39;00m \u001b[39m_element_if_visible\u001b[39m(element, visibility\u001b[39m=\u001b[39m\u001b[39mTrue\u001b[39;00m):\n\u001b[1;32m--> 147\u001b[0m     \u001b[39mreturn\u001b[39;00m element \u001b[39mif\u001b[39;00m element\u001b[39m.\u001b[39;49mis_displayed() \u001b[39m==\u001b[39m visibility \u001b[39melse\u001b[39;00m \u001b[39mFalse\u001b[39;00m\n",
      "File \u001b[1;32mc:\\ProgramData\\Anaconda3\\envs\\goodreads\\lib\\site-packages\\selenium\\webdriver\\remote\\webelement.py:264\u001b[0m, in \u001b[0;36mWebElement.is_displayed\u001b[1;34m(self)\u001b[0m\n\u001b[0;32m    262\u001b[0m \u001b[39mif\u001b[39;00m isDisplayed_js \u001b[39mis\u001b[39;00m \u001b[39mNone\u001b[39;00m:\n\u001b[0;32m    263\u001b[0m     _load_js()\n\u001b[1;32m--> 264\u001b[0m \u001b[39mreturn\u001b[39;00m \u001b[39mself\u001b[39;49m\u001b[39m.\u001b[39;49mparent\u001b[39m.\u001b[39;49mexecute_script(\u001b[39m\"\u001b[39;49m\u001b[39mreturn (\u001b[39;49m\u001b[39m%s\u001b[39;49;00m\u001b[39m).apply(null, arguments);\u001b[39;49m\u001b[39m\"\u001b[39;49m \u001b[39m%\u001b[39;49m isDisplayed_js, \u001b[39mself\u001b[39;49m)\n",
      "File \u001b[1;32mc:\\ProgramData\\Anaconda3\\envs\\goodreads\\lib\\site-packages\\selenium\\webdriver\\remote\\webdriver.py:506\u001b[0m, in \u001b[0;36mWebDriver.execute_script\u001b[1;34m(self, script, *args)\u001b[0m\n\u001b[0;32m    503\u001b[0m converted_args \u001b[39m=\u001b[39m \u001b[39mlist\u001b[39m(args)\n\u001b[0;32m    504\u001b[0m command \u001b[39m=\u001b[39m Command\u001b[39m.\u001b[39mW3C_EXECUTE_SCRIPT\n\u001b[1;32m--> 506\u001b[0m \u001b[39mreturn\u001b[39;00m \u001b[39mself\u001b[39;49m\u001b[39m.\u001b[39;49mexecute(command, {\u001b[39m\"\u001b[39;49m\u001b[39mscript\u001b[39;49m\u001b[39m\"\u001b[39;49m: script, \u001b[39m\"\u001b[39;49m\u001b[39margs\u001b[39;49m\u001b[39m\"\u001b[39;49m: converted_args})[\u001b[39m\"\u001b[39m\u001b[39mvalue\u001b[39m\u001b[39m\"\u001b[39m]\n",
      "File \u001b[1;32mc:\\ProgramData\\Anaconda3\\envs\\goodreads\\lib\\site-packages\\selenium\\webdriver\\remote\\webdriver.py:442\u001b[0m, in \u001b[0;36mWebDriver.execute\u001b[1;34m(self, driver_command, params)\u001b[0m\n\u001b[0;32m    439\u001b[0m     \u001b[39melif\u001b[39;00m \u001b[39m\"\u001b[39m\u001b[39msessionId\u001b[39m\u001b[39m\"\u001b[39m \u001b[39mnot\u001b[39;00m \u001b[39min\u001b[39;00m params:\n\u001b[0;32m    440\u001b[0m         params[\u001b[39m\"\u001b[39m\u001b[39msessionId\u001b[39m\u001b[39m\"\u001b[39m] \u001b[39m=\u001b[39m \u001b[39mself\u001b[39m\u001b[39m.\u001b[39msession_id\n\u001b[1;32m--> 442\u001b[0m response \u001b[39m=\u001b[39m \u001b[39mself\u001b[39;49m\u001b[39m.\u001b[39;49mcommand_executor\u001b[39m.\u001b[39;49mexecute(driver_command, params)\n\u001b[0;32m    443\u001b[0m \u001b[39mif\u001b[39;00m response:\n\u001b[0;32m    444\u001b[0m     \u001b[39mself\u001b[39m\u001b[39m.\u001b[39merror_handler\u001b[39m.\u001b[39mcheck_response(response)\n",
      "File \u001b[1;32mc:\\ProgramData\\Anaconda3\\envs\\goodreads\\lib\\site-packages\\selenium\\webdriver\\remote\\remote_connection.py:294\u001b[0m, in \u001b[0;36mRemoteConnection.execute\u001b[1;34m(self, command, params)\u001b[0m\n\u001b[0;32m    292\u001b[0m data \u001b[39m=\u001b[39m utils\u001b[39m.\u001b[39mdump_json(params)\n\u001b[0;32m    293\u001b[0m url \u001b[39m=\u001b[39m \u001b[39mf\u001b[39m\u001b[39m\"\u001b[39m\u001b[39m{\u001b[39;00m\u001b[39mself\u001b[39m\u001b[39m.\u001b[39m_url\u001b[39m}\u001b[39;00m\u001b[39m{\u001b[39;00mpath\u001b[39m}\u001b[39;00m\u001b[39m\"\u001b[39m\n\u001b[1;32m--> 294\u001b[0m \u001b[39mreturn\u001b[39;00m \u001b[39mself\u001b[39;49m\u001b[39m.\u001b[39;49m_request(command_info[\u001b[39m0\u001b[39;49m], url, body\u001b[39m=\u001b[39;49mdata)\n",
      "File \u001b[1;32mc:\\ProgramData\\Anaconda3\\envs\\goodreads\\lib\\site-packages\\selenium\\webdriver\\remote\\remote_connection.py:316\u001b[0m, in \u001b[0;36mRemoteConnection._request\u001b[1;34m(self, method, url, body)\u001b[0m\n\u001b[0;32m    313\u001b[0m     body \u001b[39m=\u001b[39m \u001b[39mNone\u001b[39;00m\n\u001b[0;32m    315\u001b[0m \u001b[39mif\u001b[39;00m \u001b[39mself\u001b[39m\u001b[39m.\u001b[39mkeep_alive:\n\u001b[1;32m--> 316\u001b[0m     response \u001b[39m=\u001b[39m \u001b[39mself\u001b[39;49m\u001b[39m.\u001b[39;49m_conn\u001b[39m.\u001b[39;49mrequest(method, url, body\u001b[39m=\u001b[39;49mbody, headers\u001b[39m=\u001b[39;49mheaders)\n\u001b[0;32m    317\u001b[0m     statuscode \u001b[39m=\u001b[39m response\u001b[39m.\u001b[39mstatus\n\u001b[0;32m    318\u001b[0m \u001b[39melse\u001b[39;00m:\n",
      "File \u001b[1;32mc:\\ProgramData\\Anaconda3\\envs\\goodreads\\lib\\site-packages\\urllib3\\request.py:78\u001b[0m, in \u001b[0;36mRequestMethods.request\u001b[1;34m(self, method, url, fields, headers, **urlopen_kw)\u001b[0m\n\u001b[0;32m     74\u001b[0m     \u001b[39mreturn\u001b[39;00m \u001b[39mself\u001b[39m\u001b[39m.\u001b[39mrequest_encode_url(\n\u001b[0;32m     75\u001b[0m         method, url, fields\u001b[39m=\u001b[39mfields, headers\u001b[39m=\u001b[39mheaders, \u001b[39m*\u001b[39m\u001b[39m*\u001b[39murlopen_kw\n\u001b[0;32m     76\u001b[0m     )\n\u001b[0;32m     77\u001b[0m \u001b[39melse\u001b[39;00m:\n\u001b[1;32m---> 78\u001b[0m     \u001b[39mreturn\u001b[39;00m \u001b[39mself\u001b[39m\u001b[39m.\u001b[39mrequest_encode_body(\n\u001b[0;32m     79\u001b[0m         method, url, fields\u001b[39m=\u001b[39mfields, headers\u001b[39m=\u001b[39mheaders, \u001b[39m*\u001b[39m\u001b[39m*\u001b[39murlopen_kw\n\u001b[0;32m     80\u001b[0m     )\n",
      "File \u001b[1;32mc:\\ProgramData\\Anaconda3\\envs\\goodreads\\lib\\site-packages\\urllib3\\request.py:170\u001b[0m, in \u001b[0;36mRequestMethods.request_encode_body\u001b[1;34m(self, method, url, fields, headers, encode_multipart, multipart_boundary, **urlopen_kw)\u001b[0m\n\u001b[0;32m    167\u001b[0m extra_kw[\u001b[39m\"\u001b[39m\u001b[39mheaders\u001b[39m\u001b[39m\"\u001b[39m]\u001b[39m.\u001b[39mupdate(headers)\n\u001b[0;32m    168\u001b[0m extra_kw\u001b[39m.\u001b[39mupdate(urlopen_kw)\n\u001b[1;32m--> 170\u001b[0m \u001b[39mreturn\u001b[39;00m \u001b[39mself\u001b[39m\u001b[39m.\u001b[39murlopen(method, url, \u001b[39m*\u001b[39m\u001b[39m*\u001b[39mextra_kw)\n",
      "File \u001b[1;32mc:\\ProgramData\\Anaconda3\\envs\\goodreads\\lib\\site-packages\\urllib3\\poolmanager.py:376\u001b[0m, in \u001b[0;36mPoolManager.urlopen\u001b[1;34m(self, method, url, redirect, **kw)\u001b[0m\n\u001b[0;32m    374\u001b[0m     response \u001b[39m=\u001b[39m conn\u001b[39m.\u001b[39murlopen(method, url, \u001b[39m*\u001b[39m\u001b[39m*\u001b[39mkw)\n\u001b[0;32m    375\u001b[0m \u001b[39melse\u001b[39;00m:\n\u001b[1;32m--> 376\u001b[0m     response \u001b[39m=\u001b[39m conn\u001b[39m.\u001b[39murlopen(method, u\u001b[39m.\u001b[39mrequest_uri, \u001b[39m*\u001b[39m\u001b[39m*\u001b[39mkw)\n\u001b[0;32m    378\u001b[0m redirect_location \u001b[39m=\u001b[39m redirect \u001b[39mand\u001b[39;00m response\u001b[39m.\u001b[39mget_redirect_location()\n\u001b[0;32m    379\u001b[0m \u001b[39mif\u001b[39;00m \u001b[39mnot\u001b[39;00m redirect_location:\n",
      "File \u001b[1;32mc:\\ProgramData\\Anaconda3\\envs\\goodreads\\lib\\site-packages\\urllib3\\connectionpool.py:703\u001b[0m, in \u001b[0;36mHTTPConnectionPool.urlopen\u001b[1;34m(self, method, url, body, headers, retries, redirect, assert_same_host, timeout, pool_timeout, release_conn, chunked, body_pos, **response_kw)\u001b[0m\n\u001b[0;32m    700\u001b[0m     \u001b[39mself\u001b[39m\u001b[39m.\u001b[39m_prepare_proxy(conn)\n\u001b[0;32m    702\u001b[0m \u001b[39m# Make the request on the httplib connection object.\u001b[39;00m\n\u001b[1;32m--> 703\u001b[0m httplib_response \u001b[39m=\u001b[39m \u001b[39mself\u001b[39;49m\u001b[39m.\u001b[39;49m_make_request(\n\u001b[0;32m    704\u001b[0m     conn,\n\u001b[0;32m    705\u001b[0m     method,\n\u001b[0;32m    706\u001b[0m     url,\n\u001b[0;32m    707\u001b[0m     timeout\u001b[39m=\u001b[39;49mtimeout_obj,\n\u001b[0;32m    708\u001b[0m     body\u001b[39m=\u001b[39;49mbody,\n\u001b[0;32m    709\u001b[0m     headers\u001b[39m=\u001b[39;49mheaders,\n\u001b[0;32m    710\u001b[0m     chunked\u001b[39m=\u001b[39;49mchunked,\n\u001b[0;32m    711\u001b[0m )\n\u001b[0;32m    713\u001b[0m \u001b[39m# If we're going to release the connection in ``finally:``, then\u001b[39;00m\n\u001b[0;32m    714\u001b[0m \u001b[39m# the response doesn't need to know about the connection. Otherwise\u001b[39;00m\n\u001b[0;32m    715\u001b[0m \u001b[39m# it will also try to release it and we'll have a double-release\u001b[39;00m\n\u001b[0;32m    716\u001b[0m \u001b[39m# mess.\u001b[39;00m\n\u001b[0;32m    717\u001b[0m response_conn \u001b[39m=\u001b[39m conn \u001b[39mif\u001b[39;00m \u001b[39mnot\u001b[39;00m release_conn \u001b[39melse\u001b[39;00m \u001b[39mNone\u001b[39;00m\n",
      "File \u001b[1;32mc:\\ProgramData\\Anaconda3\\envs\\goodreads\\lib\\site-packages\\urllib3\\connectionpool.py:449\u001b[0m, in \u001b[0;36mHTTPConnectionPool._make_request\u001b[1;34m(self, conn, method, url, timeout, chunked, **httplib_request_kw)\u001b[0m\n\u001b[0;32m    444\u001b[0m             httplib_response \u001b[39m=\u001b[39m conn\u001b[39m.\u001b[39mgetresponse()\n\u001b[0;32m    445\u001b[0m         \u001b[39mexcept\u001b[39;00m \u001b[39mBaseException\u001b[39;00m \u001b[39mas\u001b[39;00m e:\n\u001b[0;32m    446\u001b[0m             \u001b[39m# Remove the TypeError from the exception chain in\u001b[39;00m\n\u001b[0;32m    447\u001b[0m             \u001b[39m# Python 3 (including for exceptions like SystemExit).\u001b[39;00m\n\u001b[0;32m    448\u001b[0m             \u001b[39m# Otherwise it looks like a bug in the code.\u001b[39;00m\n\u001b[1;32m--> 449\u001b[0m             six\u001b[39m.\u001b[39;49mraise_from(e, \u001b[39mNone\u001b[39;49;00m)\n\u001b[0;32m    450\u001b[0m \u001b[39mexcept\u001b[39;00m (SocketTimeout, BaseSSLError, SocketError) \u001b[39mas\u001b[39;00m e:\n\u001b[0;32m    451\u001b[0m     \u001b[39mself\u001b[39m\u001b[39m.\u001b[39m_raise_timeout(err\u001b[39m=\u001b[39me, url\u001b[39m=\u001b[39murl, timeout_value\u001b[39m=\u001b[39mread_timeout)\n",
      "File \u001b[1;32m<string>:3\u001b[0m, in \u001b[0;36mraise_from\u001b[1;34m(value, from_value)\u001b[0m\n",
      "File \u001b[1;32mc:\\ProgramData\\Anaconda3\\envs\\goodreads\\lib\\site-packages\\urllib3\\connectionpool.py:444\u001b[0m, in \u001b[0;36mHTTPConnectionPool._make_request\u001b[1;34m(self, conn, method, url, timeout, chunked, **httplib_request_kw)\u001b[0m\n\u001b[0;32m    441\u001b[0m \u001b[39mexcept\u001b[39;00m \u001b[39mTypeError\u001b[39;00m:\n\u001b[0;32m    442\u001b[0m     \u001b[39m# Python 3\u001b[39;00m\n\u001b[0;32m    443\u001b[0m     \u001b[39mtry\u001b[39;00m:\n\u001b[1;32m--> 444\u001b[0m         httplib_response \u001b[39m=\u001b[39m conn\u001b[39m.\u001b[39;49mgetresponse()\n\u001b[0;32m    445\u001b[0m     \u001b[39mexcept\u001b[39;00m \u001b[39mBaseException\u001b[39;00m \u001b[39mas\u001b[39;00m e:\n\u001b[0;32m    446\u001b[0m         \u001b[39m# Remove the TypeError from the exception chain in\u001b[39;00m\n\u001b[0;32m    447\u001b[0m         \u001b[39m# Python 3 (including for exceptions like SystemExit).\u001b[39;00m\n\u001b[0;32m    448\u001b[0m         \u001b[39m# Otherwise it looks like a bug in the code.\u001b[39;00m\n\u001b[0;32m    449\u001b[0m         six\u001b[39m.\u001b[39mraise_from(e, \u001b[39mNone\u001b[39;00m)\n",
      "File \u001b[1;32mc:\\ProgramData\\Anaconda3\\envs\\goodreads\\lib\\http\\client.py:1374\u001b[0m, in \u001b[0;36mHTTPConnection.getresponse\u001b[1;34m(self)\u001b[0m\n\u001b[0;32m   1372\u001b[0m \u001b[39mtry\u001b[39;00m:\n\u001b[0;32m   1373\u001b[0m     \u001b[39mtry\u001b[39;00m:\n\u001b[1;32m-> 1374\u001b[0m         response\u001b[39m.\u001b[39;49mbegin()\n\u001b[0;32m   1375\u001b[0m     \u001b[39mexcept\u001b[39;00m \u001b[39mConnectionError\u001b[39;00m:\n\u001b[0;32m   1376\u001b[0m         \u001b[39mself\u001b[39m\u001b[39m.\u001b[39mclose()\n",
      "File \u001b[1;32mc:\\ProgramData\\Anaconda3\\envs\\goodreads\\lib\\http\\client.py:318\u001b[0m, in \u001b[0;36mHTTPResponse.begin\u001b[1;34m(self)\u001b[0m\n\u001b[0;32m    316\u001b[0m \u001b[39m# read until we get a non-100 response\u001b[39;00m\n\u001b[0;32m    317\u001b[0m \u001b[39mwhile\u001b[39;00m \u001b[39mTrue\u001b[39;00m:\n\u001b[1;32m--> 318\u001b[0m     version, status, reason \u001b[39m=\u001b[39m \u001b[39mself\u001b[39;49m\u001b[39m.\u001b[39;49m_read_status()\n\u001b[0;32m    319\u001b[0m     \u001b[39mif\u001b[39;00m status \u001b[39m!=\u001b[39m CONTINUE:\n\u001b[0;32m    320\u001b[0m         \u001b[39mbreak\u001b[39;00m\n",
      "File \u001b[1;32mc:\\ProgramData\\Anaconda3\\envs\\goodreads\\lib\\http\\client.py:279\u001b[0m, in \u001b[0;36mHTTPResponse._read_status\u001b[1;34m(self)\u001b[0m\n\u001b[0;32m    278\u001b[0m \u001b[39mdef\u001b[39;00m \u001b[39m_read_status\u001b[39m(\u001b[39mself\u001b[39m):\n\u001b[1;32m--> 279\u001b[0m     line \u001b[39m=\u001b[39m \u001b[39mstr\u001b[39m(\u001b[39mself\u001b[39;49m\u001b[39m.\u001b[39;49mfp\u001b[39m.\u001b[39;49mreadline(_MAXLINE \u001b[39m+\u001b[39;49m \u001b[39m1\u001b[39;49m), \u001b[39m\"\u001b[39m\u001b[39miso-8859-1\u001b[39m\u001b[39m\"\u001b[39m)\n\u001b[0;32m    280\u001b[0m     \u001b[39mif\u001b[39;00m \u001b[39mlen\u001b[39m(line) \u001b[39m>\u001b[39m _MAXLINE:\n\u001b[0;32m    281\u001b[0m         \u001b[39mraise\u001b[39;00m LineTooLong(\u001b[39m\"\u001b[39m\u001b[39mstatus line\u001b[39m\u001b[39m\"\u001b[39m)\n",
      "File \u001b[1;32mc:\\ProgramData\\Anaconda3\\envs\\goodreads\\lib\\socket.py:705\u001b[0m, in \u001b[0;36mSocketIO.readinto\u001b[1;34m(self, b)\u001b[0m\n\u001b[0;32m    703\u001b[0m \u001b[39mwhile\u001b[39;00m \u001b[39mTrue\u001b[39;00m:\n\u001b[0;32m    704\u001b[0m     \u001b[39mtry\u001b[39;00m:\n\u001b[1;32m--> 705\u001b[0m         \u001b[39mreturn\u001b[39;00m \u001b[39mself\u001b[39;49m\u001b[39m.\u001b[39;49m_sock\u001b[39m.\u001b[39;49mrecv_into(b)\n\u001b[0;32m    706\u001b[0m     \u001b[39mexcept\u001b[39;00m timeout:\n\u001b[0;32m    707\u001b[0m         \u001b[39mself\u001b[39m\u001b[39m.\u001b[39m_timeout_occurred \u001b[39m=\u001b[39m \u001b[39mTrue\u001b[39;00m\n",
      "\u001b[1;31mKeyboardInterrupt\u001b[0m: "
     ]
    }
   ],
   "source": [
    "#ffprofile = webdriver.FirefoxProfile('C:\\\\Users\\\\thdub\\\\AppData\\\\Roaming\\\\Mozilla\\\\Firefox\\\\Profiles\\\\7r2u1d87.default-release')\n",
    "#driver = webdriver.Firefox(firefox_profile=ffprofile, options=options)\n",
    "\n",
    "output_directory_path = 'data/book_read_by_users_lists'\n",
    "books_file_path = 'data/user-read_lists/63409191_user-read_list.json'\n",
    "args = {'output_directory_path': output_directory_path, 'books_file_path': books_file_path}\n",
    "\n",
    "books = json.load(open(args['books_file_path']))\n",
    "book_ids = [book['book_id'] for book in books]\n",
    "books_already_scraped =  [file_name.replace('_book_read_by_users_list.json', '') for file_name in os.listdir(args['output_directory_path']) if file_name.endswith('.json') and not file_name.startswith('all_books')]\n",
    "books_to_scrape       = [book_id for book_id in book_ids if book_id not in books_already_scraped]\n",
    "\n",
    "print('already scraped {} out of {} books'.format(len(books_already_scraped), len(book_ids)))\n",
    "num_scraped = len(books_already_scraped)\n",
    "num_failed = 0\n",
    "\n",
    "books_failed = []\n",
    "for book_id in books_to_scrape:\n",
    "    try:\n",
    "        user_ids = scrape_users_from_book(book_id, driver)\n",
    "        if user_ids:\n",
    "            with open(os.path.join(output_directory_path, '{}_book_read_by_users_list.json'.format(book_id)), 'w') as f:\n",
    "                json.dump(user_ids, f)\n",
    "            num_scraped += 1\n",
    "            print('scraped {} out of {} books'.format(num_scraped, len(book_ids)))\n",
    "        else:\n",
    "            print('book {} failed'.format(book_id))\n",
    "            books_failed.append(book_id)\n",
    "            num_failed += 1\n",
    "    \n",
    "    except Exception as e:\n",
    "        print('exception {}'.format(e))\n",
    "        print('book {} failed'.format(book_id))\n",
    "        books_failed.append(book_id)\n",
    "        num_failed += 1\n",
    "    \n",
    "driver.quit()"
   ]
  },
  {
   "cell_type": "code",
   "execution_count": 42,
   "metadata": {},
   "outputs": [],
   "source": [
    "driver.quit()"
   ]
  },
  {
   "cell_type": "code",
   "execution_count": 3,
   "metadata": {},
   "outputs": [],
   "source": [
    "import bs4\n",
    "from urllib.request import urlopen\n",
    "import json\n",
    "import re\n",
    "from time import sleep\n"
   ]
  },
  {
   "cell_type": "code",
   "execution_count": 5,
   "metadata": {},
   "outputs": [],
   "source": [
    "url = 'https://www.goodreads.com/user/sign_in'\n",
    "source = urlopen(url)\n",
    "soup = bs4.BeautifulSoup(source, 'html.parser')\n",
    "sign_in_fields = soup.find('div', attrs={'class': 'third_party_sign_in'})\n",
    "sign_in_fields = sign_in_fields.find_all('a')\n",
    "for sign_in_field in sign_in_fields:\n",
    "    button = sign_in_field.find('button')\n",
    "    if 'email' in button.text:\n",
    "        login_url = sign_in_field['href']\n",
    "        break"
   ]
  },
  {
   "cell_type": "code",
   "execution_count": 6,
   "metadata": {},
   "outputs": [],
   "source": [
    "import urllib.request\n",
    "import urllib\n",
    "import http.cookiejar\n",
    "\n",
    "# Set up a cookie jar to store the cookies sent by the website\n",
    "cookie_jar = http.cookiejar.CookieJar()\n",
    "opener = urllib.request.build_opener(urllib.request.HTTPCookieProcessor(cookie_jar))\n",
    "\n",
    "# Log in to the website\n",
    "login_data = urllib.parse.urlencode({'email': 'th.dubach@gmail.com', 'password': 'dXnZ472X9kydDIWcvDQV'}).encode('utf-8')\n",
    "opener.open(login_url, login_data)\n",
    "\n",
    "# Connect to a webpage while logged in\n",
    "response = opener.open('https://www.goodreads.com/comment/list/63409191-thomas?ref=nav_profile_comment')\n",
    "html = response.read()"
   ]
  },
  {
   "cell_type": "code",
   "execution_count": 5,
   "metadata": {},
   "outputs": [
    {
     "name": "stderr",
     "output_type": "stream",
     "text": [
      "C:\\Users\\thdub\\AppData\\Local\\Temp\\ipykernel_12144\\4207325300.py:9: DeprecationWarning: firefox_profile has been deprecated, please use an Options object\n",
      "  ffprofile = webdriver.FirefoxProfile('C:\\\\Users\\\\thdub\\\\AppData\\\\Roaming\\\\Mozilla\\\\Firefox\\\\Profiles\\\\7r2u1d87.default-release')\n",
      "C:\\Users\\thdub\\AppData\\Local\\Temp\\ipykernel_12144\\4207325300.py:10: DeprecationWarning: firefox_profile has been deprecated, please pass in an Options object\n",
      "  driver = webdriver.Firefox(firefox_profile=ffprofile)\n"
     ]
    }
   ],
   "source": [
    "\n",
    "\n",
    "\n",
    "# If you want to open Firefox\n",
    "ffprofile = webdriver.FirefoxProfile('C:\\\\Users\\\\thdub\\\\AppData\\\\Roaming\\\\Mozilla\\\\Firefox\\\\Profiles\\\\7r2u1d87.default-release')\n",
    "driver = webdriver.Firefox(firefox_profile=ffprofile)\n",
    "\n",
    "book_url = 'https://www.goodreads.com/book/show/3300225/reviews'\n",
    "driver.get(book_url)\n",
    "sleep(5)"
   ]
  },
  {
   "cell_type": "code",
   "execution_count": 59,
   "metadata": {},
   "outputs": [],
   "source": [
    "elem = driver.find_element(By.ID, '__NEXT_DATA__')\n",
    "match = re.search('\"work\":{\"__ref\":\"Work:[^}]*', elem.get_attribute('innerHTML')).group()\n",
    "work_url = match[match.find('kca'):-1]"
   ]
  },
  {
   "cell_type": "code",
   "execution_count": null,
   "metadata": {},
   "outputs": [],
   "source": [
    "driver.req"
   ]
  }
 ],
 "metadata": {
  "kernelspec": {
   "display_name": "goodreads",
   "language": "python",
   "name": "python3"
  },
  "language_info": {
   "codemirror_mode": {
    "name": "ipython",
    "version": 3
   },
   "file_extension": ".py",
   "mimetype": "text/x-python",
   "name": "python",
   "nbconvert_exporter": "python",
   "pygments_lexer": "ipython3",
   "version": "3.10.8"
  },
  "orig_nbformat": 4,
  "vscode": {
   "interpreter": {
    "hash": "10526a417e6b515868938ab0007f9c9839cdfa1686627ab61374c20b1450c01c"
   }
  }
 },
 "nbformat": 4,
 "nbformat_minor": 2
}
